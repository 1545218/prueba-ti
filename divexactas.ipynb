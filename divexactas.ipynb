{
 "cells": [
  {
   "cell_type": "code",
   "execution_count": 1,
   "source": [
    "a = int(input(\"valor1\"))\n",
    "b = int(input(\"valor2\"))\n",
    "\n",
    "30/5\n",
    "\n",
    "print(f\"la division es exsacta entre {a} y {b}\")\n",
    "\n",
    "division = 30/5\n",
    "print(\"la division es exsacta \", division)\n",
    "print(\"la division es\", division)\n",
    "\n",
    "a"
   ],
   "outputs": [
    {
     "output_type": "error",
     "ename": "ValueError",
     "evalue": "invalid literal for int() with base 10: ''",
     "traceback": [
      "\u001b[1;31m---------------------------------------------------------------------------\u001b[0m",
      "\u001b[1;31mValueError\u001b[0m                                Traceback (most recent call last)",
      "\u001b[1;32mc:\\Users\\Alumno\\Documents\\GitHub\\prueba-ti\\divexactas\u001b[0m in \u001b[0;36mline 2\n\u001b[0;32m      <a href='file:///c%3A/Users/Alumno/Documents/GitHub/prueba-ti/divexactas?line=0'>1</a>\u001b[0m a \u001b[39m=\u001b[39m \u001b[39mint\u001b[39m(\u001b[39minput\u001b[39m(\u001b[39m\"\u001b[39m\u001b[39mvalor1\u001b[39m\u001b[39m\"\u001b[39m))\n\u001b[1;32m----> <a href='file:///c%3A/Users/Alumno/Documents/GitHub/prueba-ti/divexactas?line=1'>2</a>\u001b[0m b \u001b[39m=\u001b[39m \u001b[39mint\u001b[39;49m(\u001b[39minput\u001b[39;49m(\u001b[39m\"\u001b[39;49m\u001b[39mvalor2\u001b[39;49m\u001b[39m\"\u001b[39;49m))\n\u001b[0;32m      <a href='file:///c%3A/Users/Alumno/Documents/GitHub/prueba-ti/divexactas?line=3'>4</a>\u001b[0m \u001b[39m30\u001b[39m\u001b[39m/\u001b[39m\u001b[39m5\u001b[39m\n\u001b[0;32m      <a href='file:///c%3A/Users/Alumno/Documents/GitHub/prueba-ti/divexactas?line=5'>6</a>\u001b[0m \u001b[39mprint\u001b[39m(\u001b[39mf\u001b[39m\u001b[39m\"\u001b[39m\u001b[39mla division es exsacta entre \u001b[39m\u001b[39m{\u001b[39;00ma\u001b[39m}\u001b[39;00m\u001b[39m y \u001b[39m\u001b[39m{\u001b[39;00mb\u001b[39m}\u001b[39;00m\u001b[39m\"\u001b[39m)\n",
      "\u001b[1;31mValueError\u001b[0m: invalid literal for int() with base 10: ''"
     ]
    }
   ],
   "metadata": {}
  },
  {
   "cell_type": "code",
   "execution_count": 1,
   "source": [
    "a = int(input(\"valor1\"))\n",
    "b = int(input(\"valor2\"))\n",
    "\n",
    "30/5\n",
    "\n",
    "print(f\"la division es exsacta entre {a} y {b}\")\n",
    "\n",
    "division = 30/5\n",
    "print(\"la division es exsacta \", division)\n",
    "print(\"la division es\", division)\n",
    "\n",
    "a"
   ],
   "outputs": [],
   "metadata": {}
  }
 ],
 "nbformat": 4,
 "nbformat_minor": 2,
 "metadata": {
  "language_info": {
   "codemirror_mode": {
    "name": "ipython",
    "version": 3
   },
   "file_extension": ".py",
   "mimetype": "text/x-python",
   "name": "python",
   "nbconvert_exporter": "python",
   "pygments_lexer": "ipython3",
   "version": 3
  },
  "orig_nbformat": 4
 }
}